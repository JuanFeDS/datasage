{
 "cells": [
  {
   "cell_type": "markdown",
   "id": "96a6942f",
   "metadata": {},
   "source": [
    "## **Librerías**"
   ]
  },
  {
   "cell_type": "code",
   "execution_count": 1,
   "id": "f3f07883",
   "metadata": {},
   "outputs": [],
   "source": [
    "from langgraph.checkpoint.memory import MemorySaver"
   ]
  },
  {
   "cell_type": "code",
   "execution_count": null,
   "id": "b0747967",
   "metadata": {},
   "outputs": [],
   "source": [
    "from langchain_mcp_adapters.client import MultiServerMCPClient"
   ]
  },
  {
   "cell_type": "code",
   "execution_count": 4,
   "id": "da11795a",
   "metadata": {},
   "outputs": [],
   "source": [
    "from tools.eda import group_by_column"
   ]
  },
  {
   "cell_type": "code",
   "execution_count": 5,
   "id": "c84bfd98",
   "metadata": {},
   "outputs": [],
   "source": [
    "from pathlib import Path"
   ]
  },
  {
   "cell_type": "code",
   "execution_count": 6,
   "metadata": {
    "cellUniqueIdByVincent": "1a9a2"
   },
   "outputs": [],
   "source": [
    "# Ajustamos el path para importar módulos locales\n",
    "import sys\n",
    "\n",
    "sys.path.append('./')\n",
    "sys.path.append('../')"
   ]
  },
  {
   "cell_type": "code",
   "execution_count": 7,
   "metadata": {
    "cellUniqueIdByVincent": "94cb9"
   },
   "outputs": [],
   "source": [
    "from agent import new_datasage_agent, run_agent_message_stream"
   ]
  },
  {
   "cell_type": "markdown",
   "id": "e5505e99",
   "metadata": {},
   "source": [
    "## **Utils**"
   ]
  },
  {
   "cell_type": "code",
   "execution_count": 55,
   "id": "77a324dd",
   "metadata": {},
   "outputs": [],
   "source": [
    "async def generate_response(agent, prompt: str):\n",
    "    agent_response = run_agent_message_stream(agent, prompt)\n",
    "\n",
    "    async for chunk in agent_response:\n",
    "        if chunk.get('type') == 'message':\n",
    "            response = chunk['content']\n",
    "            return response\n",
    "        elif chunk.get('type') == 'error':\n",
    "            print(f\"\\n[ERROR] {chunk['content']}\")"
   ]
  },
  {
   "cell_type": "markdown",
   "id": "f1259ca0",
   "metadata": {
    "cellUniqueIdByVincent": "4d14b"
   },
   "source": [
    "## **Agentes**"
   ]
  },
  {
   "cell_type": "code",
   "execution_count": 34,
   "id": "7db88229",
   "metadata": {},
   "outputs": [],
   "source": [
    "# General elements\n",
    "memory = MemorySaver()\n",
    "session_id = 'Session_001'"
   ]
  },
  {
   "cell_type": "markdown",
   "id": "4c32317d",
   "metadata": {},
   "source": [
    "### **Agente de negocio**"
   ]
  },
  {
   "cell_type": "code",
   "execution_count": 57,
   "id": "ea66c1d8",
   "metadata": {},
   "outputs": [],
   "source": [
    "# Agent elements\n",
    "prompt_business = Path('./prompts/agent_business.txt').read_text(encoding='utf-8')"
   ]
  },
  {
   "cell_type": "code",
   "execution_count": 58,
   "metadata": {
    "cellUniqueIdByVincent": "d7c9e"
   },
   "outputs": [],
   "source": [
    "agent_business = new_datasage_agent(\n",
    "    memory = memory,\n",
    "    session_id = session_id,\n",
    "    prompt = prompt_business,\n",
    "    tools = []\n",
    ")"
   ]
  },
  {
   "cell_type": "markdown",
   "id": "ca4af371",
   "metadata": {},
   "source": [
    "### **Agente Evaluador**"
   ]
  },
  {
   "cell_type": "code",
   "execution_count": 59,
   "id": "1c0a6fae",
   "metadata": {},
   "outputs": [],
   "source": [
    "# Agent elements\n",
    "prompt_evaluator = Path('./prompts/agent_evaluator.txt').read_text(encoding='utf-8')"
   ]
  },
  {
   "cell_type": "code",
   "execution_count": null,
   "id": "ea5a404c",
   "metadata": {},
   "outputs": [],
   "source": [
    "agent_evaluator = new_datasage_agent(\n",
    "    memory = memory,\n",
    "    session_id = session_id,\n",
    "    prompt = prompt_evaluator,\n",
    "    tools = []\n",
    ")"
   ]
  },
  {
   "cell_type": "code",
   "execution_count": 67,
   "id": "e5cb4f08",
   "metadata": {},
   "outputs": [
    {
     "data": {
      "text/plain": [
       "'Para ayudarte a procesar un archivo CSV y obtener datos descriptivos, crearé un plan de acción estructurado. Asumiré que utilizarás Python y la biblioteca pandas para este propósito. Si tienes otra herramienta en mente, házmelo saber.\\n\\nAquí tienes el plan de acción:\\n\\n```yaml\\ncontexto:\\n  descripcion_general: Procesar un archivo CSV y obtener estadísticas descriptivas.\\n\\npasos:\\n  - titulo: Cargar archivo CSV\\n    descripcion: Cargar el archivo CSV en un DataFrame de pandas desde una ubicación específica.\\n    criterios_exito:\\n      - El archivo se carga sin errores\\n      - El DataFrame tiene al menos una fila y una columna\\n\\n  - titulo: Inspeccionar datos\\n    descripcion: Inspeccionar el DataFrame para entender su estructura y contenido inicial.\\n    criterios_exito:\\n      - Mostrar las primeras 5 filas del DataFrame\\n      - No se presentan errores durante la inspección\\n\\n  - titulo: Limpiar datos\\n    descripcion: Realizar limpieza básica de los datos, como eliminar filas duplicadas y manejar valores nulos.\\n    criterios_exito:\\n      - No hay filas duplicadas en el DataFrame\\n      - Los valores nulos son manejados adecuadamente (por ejemplo, rellenar o eliminar)\\n\\n  - titulo: Generar estadísticas descriptivas\\n    descripcion: Calcular estadísticas descriptivas básicas, como media, mediana, moda y desviación estándar para las columnas numéricas.\\n    criterios_exito:\\n      - Se generan estadísticas para todas las columnas numéricas\\n      - Las estadísticas se muestran sin errores\\n\\n  - titulo: Guardar resultados\\n    descripcion: Guardar las estadísticas descriptivas generadas en un nuevo archivo CSV.\\n    criterios_exito:\\n      - El archivo CSV de salida se genera sin errores\\n      - El archivo contiene todas las estadísticas calculadas\\n\\n```\\n\\nEste plan cubre desde la carga del archivo hasta la obtención y almacenamiento de estadísticas descriptivas. Si necesitas más detalles o tienes requisitos adicionales, házmelo saber.'"
      ]
     },
     "execution_count": 67,
     "metadata": {},
     "output_type": "execute_result"
    }
   ],
   "source": [
    "await generate_response(agent_business, 'Okey. Mi proyecto es tomar archivos de un csv y sacar datos descriptivos de el. Diseña el plan de acción')"
   ]
  },
  {
   "cell_type": "code",
   "execution_count": 65,
   "id": "642a7f10",
   "metadata": {},
   "outputs": [
    {
     "data": {
      "text/plain": [
       "'Lo siento, pero no tengo acceso a información personal, como tu nombre.'"
      ]
     },
     "execution_count": 65,
     "metadata": {},
     "output_type": "execute_result"
    }
   ],
   "source": [
    "await generate_response(agent_evaluator, 'Cómo me llamo?')"
   ]
  },
  {
   "cell_type": "code",
   "execution_count": null,
   "id": "ce3ad83e",
   "metadata": {},
   "outputs": [],
   "source": []
  },
  {
   "cell_type": "code",
   "execution_count": null,
   "id": "6a1163d8",
   "metadata": {},
   "outputs": [],
   "source": []
  }
 ],
 "metadata": {
  "kernelspec": {
   "display_name": "venv",
   "language": "python",
   "name": "python3"
  },
  "language_info": {
   "codemirror_mode": {
    "name": "ipython",
    "version": 3
   },
   "file_extension": ".py",
   "mimetype": "text/x-python",
   "name": "python",
   "nbconvert_exporter": "python",
   "pygments_lexer": "ipython3",
   "version": "3.12.2"
  },
  "vincent": {
   "sessionId": "0522533506215b92f7ef7cc9_2025-07-07T03-47-53-094Z"
  }
 },
 "nbformat": 4,
 "nbformat_minor": 5
}
