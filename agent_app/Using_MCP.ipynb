{
 "cells": [
  {
   "cell_type": "markdown",
   "id": "53dc241d",
   "metadata": {},
   "source": [
    "## **Librerías**"
   ]
  },
  {
   "cell_type": "code",
   "execution_count": 13,
   "id": "8fc3919b",
   "metadata": {},
   "outputs": [],
   "source": [
    "from langgraph.prebuilt import create_react_agent\n",
    "from langchain_mcp_adapters.client import MultiServerMCPClient"
   ]
  },
  {
   "cell_type": "code",
   "execution_count": 14,
   "id": "c5cfcdf1",
   "metadata": {},
   "outputs": [],
   "source": [
    "from pathlib import Path\n",
    "import json"
   ]
  },
  {
   "cell_type": "markdown",
   "id": "163a3029",
   "metadata": {},
   "source": [
    "### **Configuración del agente**"
   ]
  },
  {
   "cell_type": "code",
   "execution_count": 15,
   "id": "5f12eed6",
   "metadata": {},
   "outputs": [],
   "source": [
    "path_tavily = Path('../agent_app/mcp/tavily.json')\n",
    "\n",
    "with path_tavily.open('r') as f:\n",
    "    mcp_tavily = json.load(f)"
   ]
  },
  {
   "cell_type": "code",
   "execution_count": 16,
   "id": "d8646d9c",
   "metadata": {},
   "outputs": [],
   "source": [
    "client = MultiServerMCPClient(\n",
    "    mcp_tavily\n",
    ")"
   ]
  },
  {
   "cell_type": "code",
   "execution_count": 17,
   "id": "0f20296c",
   "metadata": {},
   "outputs": [
    {
     "ename": "ValueError",
     "evalue": "Configuration error: Missing 'transport' key in server configuration. Each server must include 'transport' with one of: 'stdio', 'sse', 'websocket', 'streamable_http'. Please refer to the langchain-mcp-adapters documentation for more details.",
     "output_type": "error",
     "traceback": [
      "\u001b[31m---------------------------------------------------------------------------\u001b[39m",
      "\u001b[31mValueError\u001b[39m                                Traceback (most recent call last)",
      "\u001b[36mCell\u001b[39m\u001b[36m \u001b[39m\u001b[32mIn[17]\u001b[39m\u001b[32m, line 1\u001b[39m\n\u001b[32m----> \u001b[39m\u001b[32m1\u001b[39m tools = \u001b[38;5;28;01mawait\u001b[39;00m client.get_tools()\n",
      "\u001b[36mFile \u001b[39m\u001b[32mc:\\Users\\jmart\\Documents\\Proyectos\\Data_Science\\Agentes\\Datasage\\venv\\Lib\\site-packages\\langchain_mcp_adapters\\client.py:137\u001b[39m, in \u001b[36mMultiServerMCPClient.get_tools\u001b[39m\u001b[34m(self, server_name)\u001b[39m\n\u001b[32m    135\u001b[39m     load_mcp_tool_task = asyncio.create_task(load_mcp_tools(\u001b[38;5;28;01mNone\u001b[39;00m, connection=connection))\n\u001b[32m    136\u001b[39m     load_mcp_tool_tasks.append(load_mcp_tool_task)\n\u001b[32m--> \u001b[39m\u001b[32m137\u001b[39m tools_list = \u001b[38;5;28;01mawait\u001b[39;00m asyncio.gather(*load_mcp_tool_tasks)\n\u001b[32m    138\u001b[39m \u001b[38;5;28;01mfor\u001b[39;00m tools \u001b[38;5;129;01min\u001b[39;00m tools_list:\n\u001b[32m    139\u001b[39m     all_tools.extend(tools)\n",
      "\u001b[36mFile \u001b[39m\u001b[32mc:\\Users\\jmart\\Documents\\Proyectos\\Data_Science\\Agentes\\Datasage\\venv\\Lib\\site-packages\\langchain_mcp_adapters\\tools.py:133\u001b[39m, in \u001b[36mload_mcp_tools\u001b[39m\u001b[34m(session, connection)\u001b[39m\n\u001b[32m    129\u001b[39m     \u001b[38;5;28;01mraise\u001b[39;00m \u001b[38;5;167;01mValueError\u001b[39;00m(\u001b[33m\"\u001b[39m\u001b[33mEither a session or a connection config must be provided\u001b[39m\u001b[33m\"\u001b[39m)\n\u001b[32m    131\u001b[39m \u001b[38;5;28;01mif\u001b[39;00m session \u001b[38;5;129;01mis\u001b[39;00m \u001b[38;5;28;01mNone\u001b[39;00m:\n\u001b[32m    132\u001b[39m     \u001b[38;5;66;03m# If a session is not provided, we will create one on the fly\u001b[39;00m\n\u001b[32m--> \u001b[39m\u001b[32m133\u001b[39m     \u001b[38;5;28;01masync\u001b[39;00m \u001b[38;5;28;01mwith\u001b[39;00m create_session(connection) \u001b[38;5;28;01mas\u001b[39;00m tool_session:\n\u001b[32m    134\u001b[39m         \u001b[38;5;28;01mawait\u001b[39;00m tool_session.initialize()\n\u001b[32m    135\u001b[39m         tools = \u001b[38;5;28;01mawait\u001b[39;00m _list_all_tools(tool_session)\n",
      "\u001b[36mFile \u001b[39m\u001b[32mC:\\Python312\\Lib\\contextlib.py:210\u001b[39m, in \u001b[36m_AsyncGeneratorContextManager.__aenter__\u001b[39m\u001b[34m(self)\u001b[39m\n\u001b[32m    208\u001b[39m \u001b[38;5;28;01mdel\u001b[39;00m \u001b[38;5;28mself\u001b[39m.args, \u001b[38;5;28mself\u001b[39m.kwds, \u001b[38;5;28mself\u001b[39m.func\n\u001b[32m    209\u001b[39m \u001b[38;5;28;01mtry\u001b[39;00m:\n\u001b[32m--> \u001b[39m\u001b[32m210\u001b[39m     \u001b[38;5;28;01mreturn\u001b[39;00m \u001b[38;5;28;01mawait\u001b[39;00m anext(\u001b[38;5;28mself\u001b[39m.gen)\n\u001b[32m    211\u001b[39m \u001b[38;5;28;01mexcept\u001b[39;00m \u001b[38;5;167;01mStopAsyncIteration\u001b[39;00m:\n\u001b[32m    212\u001b[39m     \u001b[38;5;28;01mraise\u001b[39;00m \u001b[38;5;167;01mRuntimeError\u001b[39;00m(\u001b[33m\"\u001b[39m\u001b[33mgenerator didn\u001b[39m\u001b[33m'\u001b[39m\u001b[33mt yield\u001b[39m\u001b[33m\"\u001b[39m) \u001b[38;5;28;01mfrom\u001b[39;00m\u001b[38;5;250m \u001b[39m\u001b[38;5;28;01mNone\u001b[39;00m\n",
      "\u001b[36mFile \u001b[39m\u001b[32mc:\\Users\\jmart\\Documents\\Proyectos\\Data_Science\\Agentes\\Datasage\\venv\\Lib\\site-packages\\langchain_mcp_adapters\\sessions.py:296\u001b[39m, in \u001b[36mcreate_session\u001b[39m\u001b[34m(connection)\u001b[39m\n\u001b[32m    282\u001b[39m \u001b[38;5;250m\u001b[39m\u001b[33;03m\"\"\"Create a new session to an MCP server.\u001b[39;00m\n\u001b[32m    283\u001b[39m \n\u001b[32m    284\u001b[39m \u001b[33;03mArgs:\u001b[39;00m\n\u001b[32m   (...)\u001b[39m\u001b[32m    292\u001b[39m \u001b[33;03m    A ClientSession\u001b[39;00m\n\u001b[32m    293\u001b[39m \u001b[33;03m\"\"\"\u001b[39;00m\n\u001b[32m    295\u001b[39m \u001b[38;5;28;01mif\u001b[39;00m \u001b[33m\"\u001b[39m\u001b[33mtransport\u001b[39m\u001b[33m\"\u001b[39m \u001b[38;5;129;01mnot\u001b[39;00m \u001b[38;5;129;01min\u001b[39;00m connection:\n\u001b[32m--> \u001b[39m\u001b[32m296\u001b[39m     \u001b[38;5;28;01mraise\u001b[39;00m \u001b[38;5;167;01mValueError\u001b[39;00m(\n\u001b[32m    297\u001b[39m         \u001b[33m\"\u001b[39m\u001b[33mConfiguration error: Missing \u001b[39m\u001b[33m'\u001b[39m\u001b[33mtransport\u001b[39m\u001b[33m'\u001b[39m\u001b[33m key in server configuration. \u001b[39m\u001b[33m\"\u001b[39m\n\u001b[32m    298\u001b[39m         \u001b[33m\"\u001b[39m\u001b[33mEach server must include \u001b[39m\u001b[33m'\u001b[39m\u001b[33mtransport\u001b[39m\u001b[33m'\u001b[39m\u001b[33m with one of: \u001b[39m\u001b[33m\"\u001b[39m\n\u001b[32m    299\u001b[39m         \u001b[33m\"\u001b[39m\u001b[33m'\u001b[39m\u001b[33mstdio\u001b[39m\u001b[33m'\u001b[39m\u001b[33m, \u001b[39m\u001b[33m'\u001b[39m\u001b[33msse\u001b[39m\u001b[33m'\u001b[39m\u001b[33m, \u001b[39m\u001b[33m'\u001b[39m\u001b[33mwebsocket\u001b[39m\u001b[33m'\u001b[39m\u001b[33m, \u001b[39m\u001b[33m'\u001b[39m\u001b[33mstreamable_http\u001b[39m\u001b[33m'\u001b[39m\u001b[33m. \u001b[39m\u001b[33m\"\u001b[39m\n\u001b[32m    300\u001b[39m         \u001b[33m\"\u001b[39m\u001b[33mPlease refer to the langchain-mcp-adapters documentation for more details.\u001b[39m\u001b[33m\"\u001b[39m\n\u001b[32m    301\u001b[39m     )\n\u001b[32m    303\u001b[39m transport = connection[\u001b[33m\"\u001b[39m\u001b[33mtransport\u001b[39m\u001b[33m\"\u001b[39m]\n\u001b[32m    304\u001b[39m \u001b[38;5;28;01mif\u001b[39;00m transport == \u001b[33m\"\u001b[39m\u001b[33msse\u001b[39m\u001b[33m\"\u001b[39m:\n",
      "\u001b[31mValueError\u001b[39m: Configuration error: Missing 'transport' key in server configuration. Each server must include 'transport' with one of: 'stdio', 'sse', 'websocket', 'streamable_http'. Please refer to the langchain-mcp-adapters documentation for more details."
     ]
    }
   ],
   "source": [
    "tools = await client.get_tools()"
   ]
  },
  {
   "cell_type": "code",
   "execution_count": null,
   "id": "fd5a2992",
   "metadata": {},
   "outputs": [],
   "source": []
  },
  {
   "cell_type": "code",
   "execution_count": null,
   "id": "3fcc7dc6",
   "metadata": {},
   "outputs": [],
   "source": []
  }
 ],
 "metadata": {
  "kernelspec": {
   "display_name": "venv",
   "language": "python",
   "name": "python3"
  },
  "language_info": {
   "codemirror_mode": {
    "name": "ipython",
    "version": 3
   },
   "file_extension": ".py",
   "mimetype": "text/x-python",
   "name": "python",
   "nbconvert_exporter": "python",
   "pygments_lexer": "ipython3",
   "version": "3.12.2"
  }
 },
 "nbformat": 4,
 "nbformat_minor": 5
}
